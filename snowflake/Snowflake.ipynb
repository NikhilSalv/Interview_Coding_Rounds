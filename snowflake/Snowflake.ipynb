{
 "cells": [
  {
   "cell_type": "code",
   "execution_count": 1,
   "id": "af0839bb-1cac-4184-8df3-8b760604d1b0",
   "metadata": {},
   "outputs": [],
   "source": [
    "# We want to build a function that can find and count keywords in an input document, as well as generating a short snippet from the input text that contains all of the searched keywords at least once.\n",
    "# We'd also like it to optionally be able to ignore the case of both input and keywords when determining whether a keyword is a match.\n",
    "# More specifically:\n",
    "# Given input of the form:\n",
    "# {\n",
    "#   \"document\": <string>,\n",
    "#   \"keywords\": [<string>, ...],\n",
    "#   \"ignore_case\": <boolean>\n",
    "# }\n",
    "# Produce an output containing:\n",
    "# {\n",
    "#   \"match\": <boolean>\n",
    "#   \"counts\": {\n",
    "#     <string>: <int>\n",
    "#   },\n",
    "#   \"snippet\": <string>\n",
    "# }\n",
    "# where:\n",
    "# match: true iff all keywords in keywords appear in document at least once\n",
    "# count: a count of how many times each keyword appears in document\n",
    "# snippet: a substring of document that contains all keywords at least once (in any order, possibly with words in between) (ideally, the shortest such substring)\n",
    "# For example, given the input:\n",
    "# {\n",
    "#   \"document\": \"Fuzzy Wuzzy was a bear, Fuzzy Wuzzy had no hair, Fuzzy Wuzzy wasn't fuzzy, was he?\",\n",
    "#   \"keywords\": [\"fuzzy\", \"wuzzy\", \"bear\"],\n",
    "#   \"ignore_case\": true\n",
    "# }\n",
    "# The expected output would be:\n",
    "# {\n",
    "#   \"match\": true,\n",
    "#   \"counts\": {\n",
    "#     \"fuzzy\": 4,\n",
    "#     \"wuzzy\": 3,\n",
    "#     \"bear\": 1\n",
    "#   },\n",
    "#   \"snippet\": \"bear, Fuzzy Wuzzy\"\n",
    "# }"
   ]
  },
  {
   "cell_type": "code",
   "execution_count": 27,
   "id": "141aa880-c847-4ca2-9e5f-00a8c166da91",
   "metadata": {},
   "outputs": [],
   "source": [
    "def summarize(document, keyword, ignore_case):\n",
    "    if ignore_case:\n",
    "        words = document.split()\n",
    "        extact_document = [word.lower() for word in words]\n",
    "        keyword = [k.lower() for k in keywords]\n",
    "    else:\n",
    "        extact_document = document.split()\n",
    "    # extact_document = extact_document.sort()\n",
    "    counter = {}\n",
    "    print(sorted(extact_document))\n",
    "    print(sorted(keyword))\n",
    "    keyword_len = len(keyword) -1\n",
    "    for s in keyword:\n",
    "        "
   ]
  },
  {
   "cell_type": "code",
   "execution_count": 28,
   "id": "2db842b1-bce0-4a38-a743-4e0e5c33fb8d",
   "metadata": {
    "scrolled": true
   },
   "outputs": [
    {
     "name": "stdout",
     "output_type": "stream",
     "text": [
      "['a', 'bear,', 'fuzzy', 'fuzzy', 'fuzzy', 'fuzzy,', 'had', 'hair,', 'he?', 'no', 'was', 'was', \"wasn't\", 'wuzzy', 'wuzzy', 'wuzzy']\n",
      "['bear', 'fuzzy', 'wuzzy']\n"
     ]
    }
   ],
   "source": [
    "document = \"Fuzzy Wuzzy was a bear, Fuzzy Wuzzy had no hair, Fuzzy Wuzzy wasn't fuzzy, was he?\"\n",
    "keyword = [\"fuzzy\", \"wuzzy\", \"bear\"]\n",
    "ignore_case = True\n",
    "summarize(document,keyword, ignore_case)"
   ]
  },
  {
   "cell_type": "code",
   "execution_count": null,
   "id": "1b02afaf-6ac2-4d46-98f6-601db9bb6f5c",
   "metadata": {},
   "outputs": [],
   "source": []
  }
 ],
 "metadata": {
  "kernelspec": {
   "display_name": "Python 3 (ipykernel)",
   "language": "python",
   "name": "python3"
  },
  "language_info": {
   "codemirror_mode": {
    "name": "ipython",
    "version": 3
   },
   "file_extension": ".py",
   "mimetype": "text/x-python",
   "name": "python",
   "nbconvert_exporter": "python",
   "pygments_lexer": "ipython3",
   "version": "3.11.9"
  }
 },
 "nbformat": 4,
 "nbformat_minor": 5
}
