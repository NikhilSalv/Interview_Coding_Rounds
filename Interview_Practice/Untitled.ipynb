{
 "cells": [
  {
   "cell_type": "code",
   "execution_count": 10,
   "id": "8b4b57ee-3ac6-4220-9540-5f0546a18613",
   "metadata": {},
   "outputs": [],
   "source": [
    "from sympy import prime\n",
    "\n",
    "class IntegerList:\n",
    "    def __init__(self):\n",
    "        self.mylist = 1  # Stores product of prime numbers\n",
    "\n",
    "    def to_prime(self, element):\n",
    "        \"\"\"Maps an integer to a unique prime number.\"\"\"\n",
    "        print(\"Element is : \" ,element,\"Prime is \" , prime(element))\n",
    "        return prime(element)  # Returns the nth prime number\n",
    "\n",
    "    def add(self, element):\n",
    "        \"\"\"Adds an element to the list.\"\"\"\n",
    "        \n",
    "        self.mylist *= self.to_prime(element)\n",
    "        print(\"After op, prime : \", self.mylist)\n",
    "\n",
    "    def contains(self, element):\n",
    "        \"\"\"Checks if an element is in the list.\"\"\"\n",
    "        return self.mylist % self.to_prime(element) == 0"
   ]
  },
  {
   "cell_type": "code",
   "execution_count": 11,
   "id": "7dd4ee4b-edc8-4fea-b93e-7c4ebc076311",
   "metadata": {},
   "outputs": [
    {
     "name": "stdout",
     "output_type": "stream",
     "text": [
      "Element is :  2 Prime is  3\n",
      "After op, prime :  3\n",
      "Element is :  3 Prime is  5\n",
      "After op, prime :  15\n",
      "Element is :  5 Prime is  11\n",
      "After op, prime :  165\n",
      "Element is :  2 Prime is  3\n",
      "True\n",
      "Element is :  4 Prime is  7\n",
      "False\n",
      "Element is :  5 Prime is  11\n",
      "True\n"
     ]
    }
   ],
   "source": [
    "mylist = IntegerList()\n",
    "mylist.add(2)  # Add number 2\n",
    "mylist.add(3)  # Add number 3\n",
    "mylist.add(5)  # Add number 5\n",
    "\n",
    "print(mylist.contains(2))  # True\n",
    "print(mylist.contains(4))  # False\n",
    "print(mylist.contains(5))  # True"
   ]
  },
  {
   "cell_type": "code",
   "execution_count": 22,
   "id": "15966bbb-458f-4432-abdb-55407ebb6193",
   "metadata": {},
   "outputs": [],
   "source": [
    "class encode:\n",
    "    def __init__(self):\n",
    "        self.mylist = 1\n",
    "    def encode_list(self,list):\n",
    "        for i in list:\n",
    "            self.mylist *= prime(i)\n",
    "        return self.mylist\n",
    "    def contains(self, element):\n",
    "        return self.mylist % prime(element) == 0"
   ]
  },
  {
   "cell_type": "code",
   "execution_count": 26,
   "id": "7880ea42-f65c-4199-96df-3d8b5cac6415",
   "metadata": {},
   "outputs": [
    {
     "name": "stdout",
     "output_type": "stream",
     "text": [
      "165\n"
     ]
    },
    {
     "data": {
      "text/plain": [
       "True"
      ]
     },
     "execution_count": 26,
     "metadata": {},
     "output_type": "execute_result"
    }
   ],
   "source": [
    "arr = [2,3,5]\n",
    "encoded_list = encode()\n",
    "print(encoded_list.encode_list(arr))\n",
    "encoded_list.contains(5)"
   ]
  },
  {
   "cell_type": "code",
   "execution_count": null,
   "id": "6cbc2c46-62d6-4b1b-aab6-3f2533c35086",
   "metadata": {},
   "outputs": [],
   "source": []
  }
 ],
 "metadata": {
  "kernelspec": {
   "display_name": "Python 3 (ipykernel)",
   "language": "python",
   "name": "python3"
  },
  "language_info": {
   "codemirror_mode": {
    "name": "ipython",
    "version": 3
   },
   "file_extension": ".py",
   "mimetype": "text/x-python",
   "name": "python",
   "nbconvert_exporter": "python",
   "pygments_lexer": "ipython3",
   "version": "3.11.9"
  }
 },
 "nbformat": 4,
 "nbformat_minor": 5
}
