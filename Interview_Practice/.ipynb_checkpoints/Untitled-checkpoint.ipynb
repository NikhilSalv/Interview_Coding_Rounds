{
 "cells": [
  {
   "cell_type": "code",
   "execution_count": 3,
   "id": "8b4b57ee-3ac6-4220-9540-5f0546a18613",
   "metadata": {},
   "outputs": [],
   "source": [
    "from sympy import prime\n",
    "\n",
    "class IntegerList:\n",
    "    def __init__(self):\n",
    "        self.mylist = 1  # Stores product of prime numbers\n",
    "\n",
    "    def to_prime(self, element):\n",
    "        \"\"\"Maps an integer to a unique prime number.\"\"\"\n",
    "        print(\"Element is : \" ,element,\"Prime is \" , prime(element))\n",
    "        return prime(element)  # Returns the nth prime number\n",
    "\n",
    "    def add(self, element):\n",
    "        \"\"\"Adds an element to the list.\"\"\"\n",
    "        self.mylist *= self.to_prime(element)\n",
    "\n",
    "    def contains(self, element):\n",
    "        \"\"\"Checks if an element is in the list.\"\"\"\n",
    "        return self.mylist % self.to_prime(element) == 0"
   ]
  },
  {
   "cell_type": "code",
   "execution_count": 7,
   "id": "7dd4ee4b-edc8-4fea-b93e-7c4ebc076311",
   "metadata": {},
   "outputs": [
    {
     "name": "stdout",
     "output_type": "stream",
     "text": [
      "True\n",
      "False\n",
      "True\n"
     ]
    }
   ],
   "source": [
    "mylist = IntegerList()\n",
    "mylist.add(2)  # Add number 2\n",
    "mylist.add(3)  # Add number 3\n",
    "mylist.add(5)  # Add number 5\n",
    "\n",
    "print(mylist.contains(2))  # True\n",
    "print(mylist.contains(4))  # False\n",
    "print(mylist.contains(5))  # True"
   ]
  },
  {
   "cell_type": "code",
   "execution_count": 6,
   "id": "15966bbb-458f-4432-abdb-55407ebb6193",
   "metadata": {},
   "outputs": [
    {
     "data": {
      "text/plain": [
       "4019"
      ]
     },
     "execution_count": 6,
     "metadata": {},
     "output_type": "execute_result"
    }
   ],
   "source": [
    "number = 555\n",
    "prime(number)"
   ]
  },
  {
   "cell_type": "code",
   "execution_count": null,
   "id": "7880ea42-f65c-4199-96df-3d8b5cac6415",
   "metadata": {},
   "outputs": [],
   "source": []
  }
 ],
 "metadata": {
  "kernelspec": {
   "display_name": "Python 3 (ipykernel)",
   "language": "python",
   "name": "python3"
  },
  "language_info": {
   "codemirror_mode": {
    "name": "ipython",
    "version": 3
   },
   "file_extension": ".py",
   "mimetype": "text/x-python",
   "name": "python",
   "nbconvert_exporter": "python",
   "pygments_lexer": "ipython3",
   "version": "3.11.9"
  }
 },
 "nbformat": 4,
 "nbformat_minor": 5
}
