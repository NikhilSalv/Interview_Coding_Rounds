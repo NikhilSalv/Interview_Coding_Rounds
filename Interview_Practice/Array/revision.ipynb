{
 "cells": [
  {
   "cell_type": "code",
   "execution_count": 14,
   "id": "20e00395-472d-4e65-8dcc-dd5f483753a2",
   "metadata": {},
   "outputs": [],
   "source": [
    "def merge(nums1, m, nums2, n):\n",
    "    i = n -1\n",
    "    j = m -1\n",
    "    k = len(nums1) -1\n",
    "    while i >= 0 and j >= 0:\n",
    "        if nums2[j] < nums1[i]:\n",
    "            nums1[k] = nums1[i]\n",
    "            i -= 1\n",
    "        else:\n",
    "            nums1[k] = nums2[j]\n",
    "            j -= 1\n",
    "        k -= 1\n",
    "\n",
    "    while j >= 0:\n",
    "        nums1[k] = nums2[j]\n",
    "        j -= 1\n",
    "    return nums1"
   ]
  },
  {
   "cell_type": "code",
   "execution_count": 15,
   "id": "c33baba2-0df0-42f7-8302-b0b07d1adc24",
   "metadata": {},
   "outputs": [
    {
     "data": {
      "text/plain": [
       "[1, 2, 2, 3, 5, 6]"
      ]
     },
     "execution_count": 15,
     "metadata": {},
     "output_type": "execute_result"
    }
   ],
   "source": [
    "nums1 = [1,2,3,0,0,0]\n",
    "m = 3\n",
    "nums2 = [2,5,6]\n",
    "n = 3\n",
    "\n",
    "merge(nums1, m, nums2, n)"
   ]
  },
  {
   "cell_type": "code",
   "execution_count": 21,
   "id": "7811bb76-eae4-44a9-b297-41c99507801e",
   "metadata": {},
   "outputs": [],
   "source": [
    "nums = [0,1,2,2,3,0,4,2]\n",
    "val = 2"
   ]
  },
  {
   "cell_type": "code",
   "execution_count": 23,
   "id": "926f5a68-25aa-4b36-b3ac-08017baae7ef",
   "metadata": {},
   "outputs": [],
   "source": [
    "def removeElement(nums, val):\n",
    "    end = 0\n",
    "    for i in range(len(nums)):\n",
    "        if nums[i] != val:\n",
    "            nums[end] = nums[i]\n",
    "            end += 1\n",
    "    return nums[:end]"
   ]
  },
  {
   "cell_type": "code",
   "execution_count": 24,
   "id": "a53f7f60-4b2b-41f1-a2e8-5e6e6114a853",
   "metadata": {},
   "outputs": [
    {
     "data": {
      "text/plain": [
       "[0, 1, 3, 0, 4]"
      ]
     },
     "execution_count": 24,
     "metadata": {},
     "output_type": "execute_result"
    }
   ],
   "source": [
    "removeElement(nums, val)"
   ]
  },
  {
   "cell_type": "code",
   "execution_count": 27,
   "id": "5eb15907-8e62-407d-93a5-5e94a5c80dcb",
   "metadata": {},
   "outputs": [],
   "source": [
    "nums = [1,1,1,2,2,3]\n",
    "nums2 = [1,2,3,3,3,4,5,6,6] \n",
    "\n",
    "def removeDuplicates(nums):\n",
    "    end = 1\n",
    "    prev_idx= 0\n",
    "    for i in range(end ,len(nums)):\n",
    "        if nums[prev_idx] != nums[i]:\n",
    "            nums[prev_idx + 1] = nums[i]\n",
    "            prev_idx += 1 \n",
    "    return nums[:prev_idx+1]"
   ]
  },
  {
   "cell_type": "code",
   "execution_count": 29,
   "id": "043a000a-83fc-4f77-b542-8db059001cfa",
   "metadata": {},
   "outputs": [
    {
     "data": {
      "text/plain": [
       "[1, 2, 3, 4, 5, 6]"
      ]
     },
     "execution_count": 29,
     "metadata": {},
     "output_type": "execute_result"
    }
   ],
   "source": [
    "removeDuplicates(nums2)"
   ]
  },
  {
   "cell_type": "code",
   "execution_count": 36,
   "id": "4719ed6b-78c5-477d-bc6f-9385f03ca110",
   "metadata": {},
   "outputs": [
    {
     "data": {
      "text/plain": [
       "[1, 2, 3, 3, 4, 5, 6, 6, 7]"
      ]
     },
     "execution_count": 36,
     "metadata": {},
     "output_type": "execute_result"
    }
   ],
   "source": [
    "nums = [1,2,3,3,3,4,5,6,6,6,6,6,7] \n",
    "def removeDuplicates(nums):\n",
    "    i = 2\n",
    "    for j in range(2, len(nums)):\n",
    "        if nums[i -2] != nums[j]:\n",
    "            nums[i] = nums[j]\n",
    "            i += 1\n",
    "    return nums[:i]\n",
    "\n",
    "removeDuplicates(nums)"
   ]
  },
  {
   "cell_type": "code",
   "execution_count": 40,
   "id": "b1e2b71e-6cc2-4993-b06c-250b7bd62cad",
   "metadata": {},
   "outputs": [
    {
     "data": {
      "text/plain": [
       "[5, 6, 7, 1, 2, 3, 4]"
      ]
     },
     "execution_count": 40,
     "metadata": {},
     "output_type": "execute_result"
    }
   ],
   "source": [
    "nums = [1, 2, 3, 3, 4, 5, 6, 6, 7] # expected [6, 6, 7,1, 2, 3, 3, 4, 5]\n",
    "nums2 = [1,2,3,4,5,6,7]\n",
    "\n",
    "def rotate(nums, k):\n",
    "    n = len(nums)\n",
    "    k = k % n\n",
    "    return  nums[n-k:] + nums[:n-k]\n",
    "\n",
    "rotate(nums2, 3)"
   ]
  },
  {
   "cell_type": "code",
   "execution_count": 46,
   "id": "4fcaf368-0862-47ed-ba69-40e6119743f8",
   "metadata": {},
   "outputs": [
    {
     "data": {
      "text/plain": [
       "[5, 2, 1, 1, 2, 3, 7]"
      ]
     },
     "execution_count": 46,
     "metadata": {},
     "output_type": "execute_result"
    }
   ],
   "source": [
    "nums = [5,2,1,7,3,2,1]\n",
    "def next_per(nums):\n",
    "    n = len(nums) -1\n",
    "    i = n -1 \n",
    "    while i >= 0 and nums[i] >= nums[i+1]:\n",
    "        i -= 1\n",
    "    if i == -1:\n",
    "        return -1\n",
    "    j = n\n",
    "    while nums[j] < nums[i]:\n",
    "        j -= 1\n",
    "    nums[i], nums[j] = nums[j], nums[i]\n",
    "    nums[i+1:] = reversed(nums[i+1:])\n",
    "    return nums\n",
    "\n",
    "next_per(nums)"
   ]
  },
  {
   "cell_type": "code",
   "execution_count": null,
   "id": "70d3aed8-6366-4327-81a2-7394f56842f2",
   "metadata": {},
   "outputs": [],
   "source": []
  },
  {
   "cell_type": "code",
   "execution_count": null,
   "id": "4477c285-32bc-421c-a6c6-1342a37ffbe1",
   "metadata": {},
   "outputs": [],
   "source": []
  }
 ],
 "metadata": {
  "kernelspec": {
   "display_name": "Python 3 (ipykernel)",
   "language": "python",
   "name": "python3"
  },
  "language_info": {
   "codemirror_mode": {
    "name": "ipython",
    "version": 3
   },
   "file_extension": ".py",
   "mimetype": "text/x-python",
   "name": "python",
   "nbconvert_exporter": "python",
   "pygments_lexer": "ipython3",
   "version": "3.11.9"
  }
 },
 "nbformat": 4,
 "nbformat_minor": 5
}
