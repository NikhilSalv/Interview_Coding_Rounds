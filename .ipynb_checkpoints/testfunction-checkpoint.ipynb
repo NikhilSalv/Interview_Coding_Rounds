{
 "cells": [
  {
   "cell_type": "code",
   "execution_count": 1,
   "id": "cf1b625f-7242-471a-9767-6f88d1b7d715",
   "metadata": {},
   "outputs": [],
   "source": [
    "class demo:\n",
    "    def __init__(self, a):\n",
    "        self.arguments = a\n",
    "\n",
    "    def demogenerator(self, *args):\n",
    "        arguments = args\n",
    "        for i in arguments:\n",
    "            yield i"
   ]
  },
  {
   "cell_type": "code",
   "execution_count": 4,
   "id": "3c9b8ace-0ff1-4625-9b93-b4cb62f13e57",
   "metadata": {},
   "outputs": [],
   "source": [
    "obj = demo(3)\n",
    "demolist = [1,2,3,4]\n",
    "generator_ = obj.demogenerator(demolist)"
   ]
  },
  {
   "cell_type": "code",
   "execution_count": 9,
   "id": "f0ad8ed6-56b0-434a-98e2-d9d5d47323a8",
   "metadata": {},
   "outputs": [
    {
     "ename": "SyntaxError",
     "evalue": "unexpected character after line continuation character (3792162794.py, line 3)",
     "output_type": "error",
     "traceback": [
      "\u001b[0;36m  Cell \u001b[0;32mIn[9], line 3\u001b[0;36m\u001b[0m\n\u001b[0;31m    print(\\n)\u001b[0m\n\u001b[0m           ^\u001b[0m\n\u001b[0;31mSyntaxError\u001b[0m\u001b[0;31m:\u001b[0m unexpected character after line continuation character\n"
     ]
    }
   ],
   "source": [
    "for gen in generator_:\n",
    "    print(gen)\n",
    "    print(\\n)"
   ]
  },
  {
   "cell_type": "code",
   "execution_count": null,
   "id": "417e7b48-8799-4913-86a7-3ffbdfc6246b",
   "metadata": {},
   "outputs": [],
   "source": []
  },
  {
   "cell_type": "code",
   "execution_count": null,
   "id": "93520976-fdff-4361-aa33-04b565be47c6",
   "metadata": {},
   "outputs": [],
   "source": []
  }
 ],
 "metadata": {
  "kernelspec": {
   "display_name": "Python 3 (ipykernel)",
   "language": "python",
   "name": "python3"
  },
  "language_info": {
   "codemirror_mode": {
    "name": "ipython",
    "version": 3
   },
   "file_extension": ".py",
   "mimetype": "text/x-python",
   "name": "python",
   "nbconvert_exporter": "python",
   "pygments_lexer": "ipython3",
   "version": "3.11.9"
  }
 },
 "nbformat": 4,
 "nbformat_minor": 5
}
