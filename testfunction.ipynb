{
 "cells": [
  {
   "cell_type": "code",
   "execution_count": 25,
   "id": "cf1b625f-7242-471a-9767-6f88d1b7d715",
   "metadata": {},
   "outputs": [],
   "source": [
    "class demo:\n",
    "    def __init__(self, a):\n",
    "        self.arguments = a\n",
    "\n",
    "    def demogenerator(self, *args):\n",
    "        for i in args:\n",
    "            print(\"generating\", i)\n",
    "            yield i"
   ]
  },
  {
   "cell_type": "code",
   "execution_count": 26,
   "id": "3c9b8ace-0ff1-4625-9b93-b4cb62f13e57",
   "metadata": {},
   "outputs": [],
   "source": [
    "obj = demo(3)\n",
    "demolist = [1,2,3,4]\n",
    "generator_ = obj.demogenerator(*demolist)"
   ]
  },
  {
   "cell_type": "code",
   "execution_count": 27,
   "id": "f0ad8ed6-56b0-434a-98e2-d9d5d47323a8",
   "metadata": {},
   "outputs": [
    {
     "name": "stdout",
     "output_type": "stream",
     "text": [
      "generating 1\n",
      "1\n",
      "generating 2\n",
      "2\n",
      "generating 3\n",
      "3\n",
      "generating 4\n",
      "4\n"
     ]
    }
   ],
   "source": [
    "for i in generator_:\n",
    "    print(i)"
   ]
  },
  {
   "cell_type": "code",
   "execution_count": null,
   "id": "417e7b48-8799-4913-86a7-3ffbdfc6246b",
   "metadata": {},
   "outputs": [],
   "source": []
  },
  {
   "cell_type": "code",
   "execution_count": null,
   "id": "93520976-fdff-4361-aa33-04b565be47c6",
   "metadata": {},
   "outputs": [],
   "source": []
  }
 ],
 "metadata": {
  "kernelspec": {
   "display_name": "Python 3 (ipykernel)",
   "language": "python",
   "name": "python3"
  },
  "language_info": {
   "codemirror_mode": {
    "name": "ipython",
    "version": 3
   },
   "file_extension": ".py",
   "mimetype": "text/x-python",
   "name": "python",
   "nbconvert_exporter": "python",
   "pygments_lexer": "ipython3",
   "version": "3.11.9"
  }
 },
 "nbformat": 4,
 "nbformat_minor": 5
}
